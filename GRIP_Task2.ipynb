{
  "nbformat": 4,
  "nbformat_minor": 0,
  "metadata": {
    "colab": {
      "name": "GRIP_Task2.ipynb",
      "provenance": [],
      "collapsed_sections": []
    },
    "kernelspec": {
      "name": "python3",
      "display_name": "Python 3"
    }
  },
  "cells": [
    {
      "cell_type": "markdown",
      "metadata": {
        "id": "Eat1yyq9bcF7",
        "colab_type": "text"
      },
      "source": [
        "# **Task 2** - **To Explore Supervised Machine Learning**\n",
        "\n",
        "In this regression task we will predict the percentage of\n",
        "marks that a student is expected to score based upon the\n",
        "number of hours they studied. This is a simple linear\n",
        "regression task as it involves just two variables.\n"
      ]
    },
    {
      "cell_type": "markdown",
      "metadata": {
        "id": "qAy74aqPcVTe",
        "colab_type": "text"
      },
      "source": [
        "**Problem Statement** - What will be predicted score if a student study for 9.25 hrs in a\n",
        "day?"
      ]
    },
    {
      "cell_type": "markdown",
      "metadata": {
        "id": "QIDDP9kMfwKJ",
        "colab_type": "text"
      },
      "source": [
        "**A little introduction on Simple Linear Regression:**\n",
        "\n",
        "Why Regression? -> *to solve problems related to the prediction of a numerical value.*\n",
        "\n",
        "Now in context of Regression, note that,  \n",
        "*   dependent / target variable(Y) -> value that is to be predicted *(score)*\n",
        "*   predictors / indpendent variable(X) -> rest of the features that will help us predict the target value *(hours)*\n",
        "\n",
        "\n",
        "\n",
        "\n"
      ]
    },
    {
      "cell_type": "markdown",
      "metadata": {
        "id": "wLYgifjIgKpn",
        "colab_type": "text"
      },
      "source": [
        "Our target "
      ]
    },
    {
      "cell_type": "code",
      "metadata": {
        "id": "oR-SbTARau5P",
        "colab_type": "code",
        "colab": {}
      },
      "source": [
        "#importing necessary libraries\n",
        "import numpy as np \n",
        "import pandas as pd \n",
        "import matplotlib.pyplot as plt \n",
        "%matplotlib inline"
      ],
      "execution_count": 1,
      "outputs": []
    },
    {
      "cell_type": "markdown",
      "metadata": {
        "id": "J3ZNbfyZchw8",
        "colab_type": "text"
      },
      "source": [
        "I'll give you a quick intro on these libraries:\n",
        "\n",
        "\n",
        "1.   Numpy - It is majorly used for solving mathematical equations and we will be needing this library for evaluating our model\n",
        "2.   Pandas - It provides best tools for quick analysis in preparing and loading the data \n",
        "3.   Matplotlib - It will help us plot visualisations\n",
        "\n"
      ]
    },
    {
      "cell_type": "markdown",
      "metadata": {
        "id": "Ow_K7O_o2Jwh",
        "colab_type": "text"
      },
      "source": [
        "# Simple Linear Regression\n",
        "It consists of only one predictor/independent variable i.e. X and ofcourse one target/dependent variable i.e. Y. The model will try to assume a linear relationship between the dependent variable and the predictor variabl\n"
      ]
    },
    {
      "cell_type": "code",
      "metadata": {
        "id": "W1DUXmtAa8A4",
        "colab_type": "code",
        "colab": {
          "base_uri": "https://localhost:8080/",
          "height": 206
        },
        "outputId": "1dbd12d5-16e0-43b3-ea8a-81b1037b5a14"
      },
      "source": [
        "#load and view dataset\n",
        "df = pd.read_csv('http://bit.ly/w-data\"')\n",
        "df.head()"
      ],
      "execution_count": 2,
      "outputs": [
        {
          "output_type": "execute_result",
          "data": {
            "text/html": [
              "<div>\n",
              "<style scoped>\n",
              "    .dataframe tbody tr th:only-of-type {\n",
              "        vertical-align: middle;\n",
              "    }\n",
              "\n",
              "    .dataframe tbody tr th {\n",
              "        vertical-align: top;\n",
              "    }\n",
              "\n",
              "    .dataframe thead th {\n",
              "        text-align: right;\n",
              "    }\n",
              "</style>\n",
              "<table border=\"1\" class=\"dataframe\">\n",
              "  <thead>\n",
              "    <tr style=\"text-align: right;\">\n",
              "      <th></th>\n",
              "      <th>Hours</th>\n",
              "      <th>Scores</th>\n",
              "    </tr>\n",
              "  </thead>\n",
              "  <tbody>\n",
              "    <tr>\n",
              "      <th>0</th>\n",
              "      <td>2.5</td>\n",
              "      <td>21</td>\n",
              "    </tr>\n",
              "    <tr>\n",
              "      <th>1</th>\n",
              "      <td>5.1</td>\n",
              "      <td>47</td>\n",
              "    </tr>\n",
              "    <tr>\n",
              "      <th>2</th>\n",
              "      <td>3.2</td>\n",
              "      <td>27</td>\n",
              "    </tr>\n",
              "    <tr>\n",
              "      <th>3</th>\n",
              "      <td>8.5</td>\n",
              "      <td>75</td>\n",
              "    </tr>\n",
              "    <tr>\n",
              "      <th>4</th>\n",
              "      <td>3.5</td>\n",
              "      <td>30</td>\n",
              "    </tr>\n",
              "  </tbody>\n",
              "</table>\n",
              "</div>"
            ],
            "text/plain": [
              "   Hours  Scores\n",
              "0    2.5      21\n",
              "1    5.1      47\n",
              "2    3.2      27\n",
              "3    8.5      75\n",
              "4    3.5      30"
            ]
          },
          "metadata": {
            "tags": []
          },
          "execution_count": 2
        }
      ]
    },
    {
      "cell_type": "code",
      "metadata": {
        "id": "9UY0qZzvbJO5",
        "colab_type": "code",
        "colab": {
          "base_uri": "https://localhost:8080/",
          "height": 35
        },
        "outputId": "23b9d108-9cb5-4747-db7d-20385c3fca47"
      },
      "source": [
        "df.shape"
      ],
      "execution_count": 3,
      "outputs": [
        {
          "output_type": "execute_result",
          "data": {
            "text/plain": [
              "(25, 2)"
            ]
          },
          "metadata": {
            "tags": []
          },
          "execution_count": 3
        }
      ]
    },
    {
      "cell_type": "code",
      "metadata": {
        "id": "dt2wzdwbfodb",
        "colab_type": "code",
        "colab": {
          "base_uri": "https://localhost:8080/",
          "height": 72
        },
        "outputId": "6e198fae-4eb9-438c-c170-bace758bcc0c"
      },
      "source": [
        "df.isnull().sum()"
      ],
      "execution_count": 4,
      "outputs": [
        {
          "output_type": "execute_result",
          "data": {
            "text/plain": [
              "Hours     0\n",
              "Scores    0\n",
              "dtype: int64"
            ]
          },
          "metadata": {
            "tags": []
          },
          "execution_count": 4
        }
      ]
    },
    {
      "cell_type": "markdown",
      "metadata": {
        "id": "CIU5VT9iMOhz",
        "colab_type": "text"
      },
      "source": [
        "Great, no null values!"
      ]
    },
    {
      "cell_type": "code",
      "metadata": {
        "id": "Ej1O-znqMIRo",
        "colab_type": "code",
        "colab": {
          "base_uri": "https://localhost:8080/",
          "height": 300
        },
        "outputId": "bb576c0d-0e6b-4b4b-eb02-f566f08c0394"
      },
      "source": [
        "df.describe()"
      ],
      "execution_count": 5,
      "outputs": [
        {
          "output_type": "execute_result",
          "data": {
            "text/html": [
              "<div>\n",
              "<style scoped>\n",
              "    .dataframe tbody tr th:only-of-type {\n",
              "        vertical-align: middle;\n",
              "    }\n",
              "\n",
              "    .dataframe tbody tr th {\n",
              "        vertical-align: top;\n",
              "    }\n",
              "\n",
              "    .dataframe thead th {\n",
              "        text-align: right;\n",
              "    }\n",
              "</style>\n",
              "<table border=\"1\" class=\"dataframe\">\n",
              "  <thead>\n",
              "    <tr style=\"text-align: right;\">\n",
              "      <th></th>\n",
              "      <th>Hours</th>\n",
              "      <th>Scores</th>\n",
              "    </tr>\n",
              "  </thead>\n",
              "  <tbody>\n",
              "    <tr>\n",
              "      <th>count</th>\n",
              "      <td>25.000000</td>\n",
              "      <td>25.000000</td>\n",
              "    </tr>\n",
              "    <tr>\n",
              "      <th>mean</th>\n",
              "      <td>5.012000</td>\n",
              "      <td>51.480000</td>\n",
              "    </tr>\n",
              "    <tr>\n",
              "      <th>std</th>\n",
              "      <td>2.525094</td>\n",
              "      <td>25.286887</td>\n",
              "    </tr>\n",
              "    <tr>\n",
              "      <th>min</th>\n",
              "      <td>1.100000</td>\n",
              "      <td>17.000000</td>\n",
              "    </tr>\n",
              "    <tr>\n",
              "      <th>25%</th>\n",
              "      <td>2.700000</td>\n",
              "      <td>30.000000</td>\n",
              "    </tr>\n",
              "    <tr>\n",
              "      <th>50%</th>\n",
              "      <td>4.800000</td>\n",
              "      <td>47.000000</td>\n",
              "    </tr>\n",
              "    <tr>\n",
              "      <th>75%</th>\n",
              "      <td>7.400000</td>\n",
              "      <td>75.000000</td>\n",
              "    </tr>\n",
              "    <tr>\n",
              "      <th>max</th>\n",
              "      <td>9.200000</td>\n",
              "      <td>95.000000</td>\n",
              "    </tr>\n",
              "  </tbody>\n",
              "</table>\n",
              "</div>"
            ],
            "text/plain": [
              "           Hours     Scores\n",
              "count  25.000000  25.000000\n",
              "mean    5.012000  51.480000\n",
              "std     2.525094  25.286887\n",
              "min     1.100000  17.000000\n",
              "25%     2.700000  30.000000\n",
              "50%     4.800000  47.000000\n",
              "75%     7.400000  75.000000\n",
              "max     9.200000  95.000000"
            ]
          },
          "metadata": {
            "tags": []
          },
          "execution_count": 5
        }
      ]
    },
    {
      "cell_type": "markdown",
      "metadata": {
        "id": "740ZCVrbMVmw",
        "colab_type": "text"
      },
      "source": [
        "\n",
        "\n",
        "Let's break this down now,\n",
        "\n",
        "count -> number of rows(data points)\n",
        "\n",
        "mean -> mean of the entire dataset\n",
        "\n",
        "std -> standard deviation of the entire dataset\n",
        "\n",
        "min -> minimum value in the dataset\n",
        "\n",
        "25% (quantile value) -> 25% of the students have marks lower than or equal to 30\n",
        "\n",
        "50%(median value) -> 50% of the students have marks lower than or equal to 47\n",
        "\n",
        "75% -> 75% of the students have marks lower than or equal to 75\n",
        "\n",
        "max -> maximum value in the dataset \n"
      ]
    },
    {
      "cell_type": "code",
      "metadata": {
        "id": "DwMatj11ft3U",
        "colab_type": "code",
        "colab": {
          "base_uri": "https://localhost:8080/",
          "height": 455
        },
        "outputId": "a30b1373-f1ab-48be-a943-1731ea3f42bd"
      },
      "source": [
        "import seaborn as sns\n",
        "sns.set(style=\"white\")\n",
        "\n",
        "# Plot miles per gallon against horsepower with other semantics\n",
        "sns.relplot(x=\"Hours\", y=\"Scores\", data=df, hue=\"Scores\", \n",
        "            sizes=(40, 400), alpha=.5, palette=\"muted\",\n",
        "            height=6)"
      ],
      "execution_count": 14,
      "outputs": [
        {
          "output_type": "execute_result",
          "data": {
            "text/plain": [
              "<seaborn.axisgrid.FacetGrid at 0x7f73223bddd8>"
            ]
          },
          "metadata": {
            "tags": []
          },
          "execution_count": 14
        },
        {
          "output_type": "display_data",
          "data": {
            "image/png": "[encoded data removed]",
            "text/plain": [
              "<Figure size 508.475x432 with 1 Axes>"
            ]
          },
          "metadata": {
            "tags": []
          }
        }
      ]
    },
    {
      "cell_type": "code",
      "metadata": {
        "id": "kf-alF9NSBsq",
        "colab_type": "code",
        "colab": {
          "base_uri": "https://localhost:8080/",
          "height": 326
        },
        "outputId": "55f6e155-3db0-4552-a9d2-1b187d2cc064"
      },
      "source": [
        "plt.figure(figsize = (5, 5))\n",
        "sns.heatmap(df.corr(), annot = True, cmap= 'coolwarm',  linewidths=3, linecolor='black')\n",
        "plt.show()"
      ],
      "execution_count": 16,
      "outputs": [
        {
          "output_type": "display_data",
          "data": {
            "image/png": "[encoded data removed]",
            "text/plain": [
              "<Figure size 360x360 with 2 Axes>"
            ]
          },
          "metadata": {
            "tags": []
          }
        }
      ]
    },
    {
      "cell_type": "markdown",
      "metadata": {
        "id": "F7sE3LhxM8tO",
        "colab_type": "text"
      },
      "source": [
        "See, Both the graphs above shows Positive correlation ! \n",
        "\n",
        "P.S. Positive correlation signifies that with the increase in value of x, value of y increases as well\n"
      ]
    },
    {
      "cell_type": "code",
      "metadata": {
        "id": "sSV0QfR3M5MK",
        "colab_type": "code",
        "colab": {
          "base_uri": "https://localhost:8080/",
          "height": 406
        },
        "outputId": "820d6098-44c1-4f29-ba75-ede64b3509ee"
      },
      "source": [
        "plt.figure(figsize=(8,6))\n",
        "sns.scatterplot(x = 'Hours' ,y='Scores', hue='Scores', data=df)"
      ],
      "execution_count": null,
      "outputs": [
        {
          "output_type": "execute_result",
          "data": {
            "text/plain": [
              "<matplotlib.axes._subplots.AxesSubplot at 0x7f6776f8e128>"
            ]
          },
          "metadata": {
            "tags": []
          },
          "execution_count": 8
        },
        {
          "output_type": "display_data",
          "data": {
            "image/png": "[encoded data removed]",
            "text/plain": [
              "<Figure size 576x432 with 1 Axes>"
            ]
          },
          "metadata": {
            "tags": [],
            "needs_background": "light"
          }
        }
      ]
    },
    {
      "cell_type": "markdown",
      "metadata": {
        "id": "ReEVEzn7NOhm",
        "colab_type": "text"
      },
      "source": [
        "This clearly depicts that those who studied for lesser hours, got lesser marks as compared to those who studied for more hours who scored comparatively higher marks"
      ]
    },
    {
      "cell_type": "code",
      "metadata": {
        "id": "VYfj1pLiNL_2",
        "colab_type": "code",
        "colab": {
          "base_uri": "https://localhost:8080/",
          "height": 406
        },
        "outputId": "725db2ed-e1a9-4608-ac88-673c8fd0dffc"
      },
      "source": [
        "#line graph\n",
        "plt.figure(figsize=(12, 6))\n",
        "sns.swarmplot(x=\"Hours\", y=\"Scores\", data=df, size = 7)"
      ],
      "execution_count": null,
      "outputs": [
        {
          "output_type": "execute_result",
          "data": {
            "text/plain": [
              "<matplotlib.axes._subplots.AxesSubplot at 0x7f67768440f0>"
            ]
          },
          "metadata": {
            "tags": []
          },
          "execution_count": 14
        },
        {
          "output_type": "display_data",
          "data": {
            "image/png": "[encoded data removed]",
            "text/plain": [
              "<Figure size 864x432 with 1 Axes>"
            ]
          },
          "metadata": {
            "tags": [],
            "needs_background": "light"
          }
        }
      ]
    },
    {
      "cell_type": "markdown",
      "metadata": {
        "id": "BPv2wwDAOMDv",
        "colab_type": "text"
      },
      "source": [
        "This graph shows more accurate values as all data points are visible. Now let's move to model ensembling"
      ]
    },
    {
      "cell_type": "code",
      "metadata": {
        "id": "jtHRMOx6OFDW",
        "colab_type": "code",
        "colab": {}
      },
      "source": [
        "#splitting data into features(X) and target variable(y)\n",
        "X = df[['Hours']]\n",
        "y = df['Scores']"
      ],
      "execution_count": null,
      "outputs": []
    },
    {
      "cell_type": "code",
      "metadata": {
        "id": "yGMaU8QXOxL-",
        "colab_type": "code",
        "colab": {}
      },
      "source": [
        "#splitting data into 80% train and 20% test \n",
        "# import SK Learn train test split\n",
        "from sklearn.model_selection import train_test_split \n",
        "\n",
        "# Assign variables to capture train test split output\n",
        "X_train, X_test, y_train, y_test = train_test_split(X, y, test_size=0.2, random_state=0)"
      ],
      "execution_count": null,
      "outputs": []
    },
    {
      "cell_type": "markdown",
      "metadata": {
        "id": "PNCzPWT6O493",
        "colab_type": "text"
      },
      "source": [
        "\n",
        "\n",
        "Let's understand what we are supposed to do,\n",
        "\n",
        "If we plot the independent variable (x) on the x-axis and dependent variable (y) on the y-axis, linear regression gives us a straight line that \"best fits\" the data points.It’s impossible to connect all the marks with a straight line, so you use a best fitting line.\n",
        "\n",
        "Now, how do you find the best fitting line? Since our data points(values of x and y) will remain constant for a particular dataset, we can only alter b0 and b1(also called hyperparameters)(y= b0 + b1*x -> equation for simple linear regression).\n",
        "\n",
        "Hence, Our objective is to find the values of b0 and b1 that will best fit this data.\n",
        "\n",
        "The line you find IS your regression model!\n"
      ]
    },
    {
      "cell_type": "code",
      "metadata": {
        "id": "_P01FoglO2IV",
        "colab_type": "code",
        "colab": {
          "base_uri": "https://localhost:8080/",
          "height": 35
        },
        "outputId": "48c3a788-654d-498c-e51c-cf0c559d0543"
      },
      "source": [
        "#model training\n",
        "from sklearn.linear_model import LinearRegression\n",
        "linear_regressor = LinearRegression() \n",
        "linear_regressor.fit(X_train, y_train)"
      ],
      "execution_count": null,
      "outputs": [
        {
          "output_type": "execute_result",
          "data": {
            "text/plain": [
              "LinearRegression(copy_X=True, fit_intercept=True, n_jobs=None, normalize=False)"
            ]
          },
          "metadata": {
            "tags": []
          },
          "execution_count": 59
        }
      ]
    },
    {
      "cell_type": "code",
      "metadata": {
        "id": "vBlbMdBJPSjE",
        "colab_type": "code",
        "colab": {
          "base_uri": "https://localhost:8080/",
          "height": 53
        },
        "outputId": "cc4c1095-968d-4735-a210-6f27f1af8dc2"
      },
      "source": [
        "#finding intercept and coefficients(bo and b1)\n",
        "print(linear_regressor.intercept_)\n",
        "print(linear_regressor.coef_)"
      ],
      "execution_count": null,
      "outputs": [
        {
          "output_type": "stream",
          "text": [
            "2.018160041434662\n",
            "[9.91065648]\n"
          ],
          "name": "stdout"
        }
      ]
    },
    {
      "cell_type": "code",
      "metadata": {
        "id": "JgAUS7asSWhv",
        "colab_type": "code",
        "colab": {
          "base_uri": "https://localhost:8080/",
          "height": 279
        },
        "outputId": "69389d56-dfce-44b2-89e7-2f0b2f118d69"
      },
      "source": [
        "#training set\n",
        "plt.scatter(X_train, y_train, color = 'black')\n",
        "plt.plot(X_train, linear_regressor.predict(X_train), color = 'cyan')\n",
        "plt.xlabel('Hours')\n",
        "plt.ylabel('Scores')\n",
        "plt.show()"
      ],
      "execution_count": null,
      "outputs": [
        {
          "output_type": "display_data",
          "data": {
            "image/png": "[encoded data removed]",
            "text/plain": [
              "<Figure size 432x288 with 1 Axes>"
            ]
          },
          "metadata": {
            "tags": [],
            "needs_background": "light"
          }
        }
      ]
    },
    {
      "cell_type": "code",
      "metadata": {
        "id": "AhwssqVjPUjz",
        "colab_type": "code",
        "colab": {}
      },
      "source": [
        "#lets make predictions\n",
        "y_pred = linear_regressor.predict(X_test)"
      ],
      "execution_count": null,
      "outputs": []
    },
    {
      "cell_type": "code",
      "metadata": {
        "id": "zdMy8SK9QNyH",
        "colab_type": "code",
        "colab": {
          "base_uri": "https://localhost:8080/",
          "height": 206
        },
        "outputId": "38b14c08-6753-45f6-ad45-837b921b48b1"
      },
      "source": [
        "df = pd.DataFrame({'Actual': y_test, 'Predicted': y_pred})  \n",
        "df "
      ],
      "execution_count": null,
      "outputs": [
        {
          "output_type": "execute_result",
          "data": {
            "text/html": [
              "<div>\n",
              "<style scoped>\n",
              "    .dataframe tbody tr th:only-of-type {\n",
              "        vertical-align: middle;\n",
              "    }\n",
              "\n",
              "    .dataframe tbody tr th {\n",
              "        vertical-align: top;\n",
              "    }\n",
              "\n",
              "    .dataframe thead th {\n",
              "        text-align: right;\n",
              "    }\n",
              "</style>\n",
              "<table border=\"1\" class=\"dataframe\">\n",
              "  <thead>\n",
              "    <tr style=\"text-align: right;\">\n",
              "      <th></th>\n",
              "      <th>Actual</th>\n",
              "      <th>Predicted</th>\n",
              "    </tr>\n",
              "  </thead>\n",
              "  <tbody>\n",
              "    <tr>\n",
              "      <th>5</th>\n",
              "      <td>20</td>\n",
              "      <td>16.884145</td>\n",
              "    </tr>\n",
              "    <tr>\n",
              "      <th>2</th>\n",
              "      <td>27</td>\n",
              "      <td>33.732261</td>\n",
              "    </tr>\n",
              "    <tr>\n",
              "      <th>19</th>\n",
              "      <td>69</td>\n",
              "      <td>75.357018</td>\n",
              "    </tr>\n",
              "    <tr>\n",
              "      <th>16</th>\n",
              "      <td>30</td>\n",
              "      <td>26.794801</td>\n",
              "    </tr>\n",
              "    <tr>\n",
              "      <th>11</th>\n",
              "      <td>62</td>\n",
              "      <td>60.491033</td>\n",
              "    </tr>\n",
              "  </tbody>\n",
              "</table>\n",
              "</div>"
            ],
            "text/plain": [
              "    Actual  Predicted\n",
              "5       20  16.884145\n",
              "2       27  33.732261\n",
              "19      69  75.357018\n",
              "16      30  26.794801\n",
              "11      62  60.491033"
            ]
          },
          "metadata": {
            "tags": []
          },
          "execution_count": 63
        }
      ]
    },
    {
      "cell_type": "code",
      "metadata": {
        "id": "3CTVrwGuWgbZ",
        "colab_type": "code",
        "colab": {
          "base_uri": "https://localhost:8080/",
          "height": 295
        },
        "outputId": "6db7b56f-9d73-44d1-d1f9-909a66be6f75"
      },
      "source": [
        "c = [i for i in range (1,len(y_test)+1,1)]\n",
        "plt.plot(c,y_test,color='brown',linestyle='-')\n",
        "plt.plot(c,y_pred,color='green',linestyle='-')\n",
        "plt.xlabel('Hours')\n",
        "plt.ylabel('Scores')\n",
        "plt.title('Prediction')\n",
        "plt.show()"
      ],
      "execution_count": null,
      "outputs": [
        {
          "output_type": "display_data",
          "data": {
            "image/png": "[encoded data removed]",
            "text/plain": [
              "<Figure size 432x288 with 1 Axes>"
            ]
          },
          "metadata": {
            "tags": [],
            "needs_background": "light"
          }
        }
      ]
    },
    {
      "cell_type": "code",
      "metadata": {
        "id": "CJQ9-A_uS5XW",
        "colab_type": "code",
        "colab": {
          "base_uri": "https://localhost:8080/",
          "height": 279
        },
        "outputId": "2f222c49-dac3-4cde-e513-d481a9f1d535"
      },
      "source": [
        "#test set\n",
        "plt.scatter(X_test, y_test, color = 'purple')\n",
        "plt.plot(X_train, linear_regressor.predict(X_train), color = 'green')\n",
        "plt.xlabel('Hours')\n",
        "plt.ylabel('Scores')\n",
        "plt.show()"
      ],
      "execution_count": null,
      "outputs": [
        {
          "output_type": "display_data",
          "data": {
            "image/png": "[encoded data removed]",
            "text/plain": [
              "<Figure size 432x288 with 1 Axes>"
            ]
          },
          "metadata": {
            "tags": [],
            "needs_background": "light"
          }
        }
      ]
    },
    {
      "cell_type": "code",
      "metadata": {
        "id": "Pt_F7HffQW8t",
        "colab_type": "code",
        "colab": {
          "base_uri": "https://localhost:8080/",
          "height": 53
        },
        "outputId": "af6045be-1428-4caf-8999-b151315fbc69"
      },
      "source": [
        "no_of_hours = 9.25\n",
        "predictor = linear_regressor.predict(np.array([9.25]).reshape(1, 1))\n",
        "print(\"No. of Hours = {}\".format(no_of_hours))\n",
        "print(\"Predicted Score = {}\".format(predictor[0]))"
      ],
      "execution_count": null,
      "outputs": [
        {
          "output_type": "stream",
          "text": [
            "No. of Hours = 9.25\n",
            "Predicted Score = 93.69173248737539\n"
          ],
          "name": "stdout"
        }
      ]
    },
    {
      "cell_type": "markdown",
      "metadata": {
        "id": "X0HfKEmFP-48",
        "colab_type": "text"
      },
      "source": [
        "Model Evaluation"
      ]
    },
    {
      "cell_type": "code",
      "metadata": {
        "id": "z7tFxVniQBWT",
        "colab_type": "code",
        "colab": {
          "base_uri": "https://localhost:8080/",
          "height": 72
        },
        "outputId": "81f604be-41fe-4371-a095-5ea22cf564dc"
      },
      "source": [
        "from sklearn.metrics import r2_score,mean_squared_error\n",
        "from sklearn import metrics\n",
        "r2 = r2_score(y_test,y_pred)\n",
        "rsmq=np.sqrt(mean_squared_error(y_test, y_pred))\n",
        "print(\"Root Squared Error: \",rsmq)\n",
        "print('r square :',r2)\n",
        "print('Mean Absolute Error:', metrics.mean_absolute_error(y_test, y_pred))"
      ],
      "execution_count": null,
      "outputs": [
        {
          "output_type": "stream",
          "text": [
            "Root Squared Error:  4.647447612100373\n",
            "r square : 0.9454906892105354\n",
            "Mean Absolute Error: 4.183859899002982\n"
          ],
          "name": "stdout"
        }
      ]
    }
  ]
}